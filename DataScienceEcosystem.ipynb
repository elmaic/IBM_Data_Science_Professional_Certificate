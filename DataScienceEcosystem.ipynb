{
 "cells": [
  {
   "cell_type": "markdown",
   "metadata": {},
   "source": [
    "# IBM_Data_Science_Professional_Certificate <img style=\"float: right;\" src=\"IBM-Data-Science-Professional-Certificate.png\" width=\"150\" />\n",
    "Personal Data Science profesional Certificate course\n",
    "\n",
    "# Data Science Tools and Ecosystem\n",
    "\n",
    "In this notebook, Data Science Tools and Ecosystem are summarized.\n",
    "\n",
    "Several projects in different laguages will be created and updated\n",
    "\n",
    "### Languages\n",
    "\n",
    "Some of the popular languages that Data Scientists use are:\n",
    "\n",
    "|Language|Why it is used|\n",
    "|:-:|:-:|\n",
    "|Python|simplicity, community support, rich ecosystem of libraries and tools, interoperability with other languages, and high-level programming capabilities|\n",
    "|R|it has static graphics that produce good-quality data visualizations|\n",
    "|SQL|it allows you to work with structured data stored in databases|\n",
    "\n",
    "### Different Lybraries used fot Data Science\n",
    "\n",
    "|Python|R|\n",
    "|:-:|:-:|\n",
    "|TensorFlow|dplyr|\n",
    "|NumPy|ggplot2|\n",
    "|SciPy|RSQLite|\n",
    "|Pandas|Esquisse|\n",
    "|Matplotlib|Shiny|\n",
    "|Keras|mlr3|\n",
    "|SciKit-Learn|Lubridate|\n",
    "|PyTorch|RCrawler|\n",
    "|Scrapy|knitr|\n",
    "|BeautifulSoup|DT|\n",
    "|LightGBM|Plotly|\n",
    "|ELI5|caret|\n",
    "|Theano|ROCR|\n",
    "|NuPIC|Glmnet|\n",
    "|Ramp|Markdown|\n",
    "|Pipenv||\n",
    "|Bob||\n",
    "|PyBrain||\n",
    "|Caffe2||\n",
    "|Chainer||"
   ]
  },
  {
   "cell_type": "code",
   "execution_count": null,
   "metadata": {},
   "outputs": [],
   "source": []
  }
 ],
 "metadata": {
  "kernelspec": {
   "display_name": "Python 3",
   "language": "python",
   "name": "python3"
  },
  "language_info": {
   "codemirror_mode": {
    "name": "ipython",
    "version": 3
   },
   "file_extension": ".py",
   "mimetype": "text/x-python",
   "name": "python",
   "nbconvert_exporter": "python",
   "pygments_lexer": "ipython3",
   "version": "3.11.9"
  }
 },
 "nbformat": 4,
 "nbformat_minor": 2
}
